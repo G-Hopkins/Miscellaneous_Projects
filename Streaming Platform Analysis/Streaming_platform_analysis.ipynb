{
 "cells": [
  {
   "cell_type": "markdown",
   "metadata": {},
   "source": [
    "# Comparison of Streaming Platforms for TV-shows"
   ]
  },
  {
   "cell_type": "code",
   "execution_count": 1,
   "metadata": {},
   "outputs": [],
   "source": [
    "import numpy as np\n",
    "import pandas as pd\n",
    "import matplotlib.pyplot as plt\n",
    "import seaborn as sns\n",
    "import math\n",
    "\n",
    "%matplotlib inline"
   ]
  },
  {
   "cell_type": "code",
   "execution_count": 2,
   "metadata": {},
   "outputs": [],
   "source": [
    "video_data = pd.read_csv('tv_shows_data.csv')"
   ]
  },
  {
   "cell_type": "code",
   "execution_count": 3,
   "metadata": {},
   "outputs": [
    {
     "data": {
      "text/html": [
       "<div>\n",
       "<style scoped>\n",
       "    .dataframe tbody tr th:only-of-type {\n",
       "        vertical-align: middle;\n",
       "    }\n",
       "\n",
       "    .dataframe tbody tr th {\n",
       "        vertical-align: top;\n",
       "    }\n",
       "\n",
       "    .dataframe thead th {\n",
       "        text-align: right;\n",
       "    }\n",
       "</style>\n",
       "<table border=\"1\" class=\"dataframe\">\n",
       "  <thead>\n",
       "    <tr style=\"text-align: right;\">\n",
       "      <th></th>\n",
       "      <th>Unnamed: 0</th>\n",
       "      <th>Title</th>\n",
       "      <th>Year</th>\n",
       "      <th>Age</th>\n",
       "      <th>IMDb</th>\n",
       "      <th>Rotten Tomatoes</th>\n",
       "      <th>Netflix</th>\n",
       "      <th>Hulu</th>\n",
       "      <th>Prime Video</th>\n",
       "      <th>Disney+</th>\n",
       "      <th>type</th>\n",
       "    </tr>\n",
       "  </thead>\n",
       "  <tbody>\n",
       "    <tr>\n",
       "      <th>0</th>\n",
       "      <td>0</td>\n",
       "      <td>Breaking Bad</td>\n",
       "      <td>2008</td>\n",
       "      <td>18+</td>\n",
       "      <td>9.5</td>\n",
       "      <td>96%</td>\n",
       "      <td>1</td>\n",
       "      <td>0</td>\n",
       "      <td>0</td>\n",
       "      <td>0</td>\n",
       "      <td>1</td>\n",
       "    </tr>\n",
       "    <tr>\n",
       "      <th>1</th>\n",
       "      <td>1</td>\n",
       "      <td>Stranger Things</td>\n",
       "      <td>2016</td>\n",
       "      <td>16+</td>\n",
       "      <td>8.8</td>\n",
       "      <td>93%</td>\n",
       "      <td>1</td>\n",
       "      <td>0</td>\n",
       "      <td>0</td>\n",
       "      <td>0</td>\n",
       "      <td>1</td>\n",
       "    </tr>\n",
       "    <tr>\n",
       "      <th>2</th>\n",
       "      <td>2</td>\n",
       "      <td>Money Heist</td>\n",
       "      <td>2017</td>\n",
       "      <td>18+</td>\n",
       "      <td>8.4</td>\n",
       "      <td>91%</td>\n",
       "      <td>1</td>\n",
       "      <td>0</td>\n",
       "      <td>0</td>\n",
       "      <td>0</td>\n",
       "      <td>1</td>\n",
       "    </tr>\n",
       "    <tr>\n",
       "      <th>3</th>\n",
       "      <td>3</td>\n",
       "      <td>Sherlock</td>\n",
       "      <td>2010</td>\n",
       "      <td>16+</td>\n",
       "      <td>9.1</td>\n",
       "      <td>78%</td>\n",
       "      <td>1</td>\n",
       "      <td>0</td>\n",
       "      <td>0</td>\n",
       "      <td>0</td>\n",
       "      <td>1</td>\n",
       "    </tr>\n",
       "    <tr>\n",
       "      <th>4</th>\n",
       "      <td>4</td>\n",
       "      <td>Better Call Saul</td>\n",
       "      <td>2015</td>\n",
       "      <td>18+</td>\n",
       "      <td>8.7</td>\n",
       "      <td>97%</td>\n",
       "      <td>1</td>\n",
       "      <td>0</td>\n",
       "      <td>0</td>\n",
       "      <td>0</td>\n",
       "      <td>1</td>\n",
       "    </tr>\n",
       "  </tbody>\n",
       "</table>\n",
       "</div>"
      ],
      "text/plain": [
       "   Unnamed: 0             Title  Year  Age  IMDb Rotten Tomatoes  Netflix  \\\n",
       "0           0      Breaking Bad  2008  18+   9.5             96%        1   \n",
       "1           1   Stranger Things  2016  16+   8.8             93%        1   \n",
       "2           2       Money Heist  2017  18+   8.4             91%        1   \n",
       "3           3          Sherlock  2010  16+   9.1             78%        1   \n",
       "4           4  Better Call Saul  2015  18+   8.7             97%        1   \n",
       "\n",
       "   Hulu  Prime Video  Disney+  type  \n",
       "0     0            0        0     1  \n",
       "1     0            0        0     1  \n",
       "2     0            0        0     1  \n",
       "3     0            0        0     1  \n",
       "4     0            0        0     1  "
      ]
     },
     "metadata": {},
     "output_type": "display_data"
    }
   ],
   "source": [
    "display(video_data.head())"
   ]
  },
  {
   "cell_type": "code",
   "execution_count": 4,
   "metadata": {},
   "outputs": [],
   "source": [
    "#Remove unecessary columns\n",
    "video_data = video_data.drop(['Unnamed: 0', 'type'], axis=1)"
   ]
  },
  {
   "cell_type": "code",
   "execution_count": 5,
   "metadata": {},
   "outputs": [
    {
     "name": "stdout",
     "output_type": "stream",
     "text": [
      "<class 'pandas.core.frame.DataFrame'>\n",
      "RangeIndex: 5611 entries, 0 to 5610\n",
      "Data columns (total 9 columns):\n",
      " #   Column           Non-Null Count  Dtype  \n",
      "---  ------           --------------  -----  \n",
      " 0   Title            5611 non-null   object \n",
      " 1   Year             5611 non-null   int64  \n",
      " 2   Age              3165 non-null   object \n",
      " 3   IMDb             4450 non-null   float64\n",
      " 4   Rotten Tomatoes  1011 non-null   object \n",
      " 5   Netflix          5611 non-null   int64  \n",
      " 6   Hulu             5611 non-null   int64  \n",
      " 7   Prime Video      5611 non-null   int64  \n",
      " 8   Disney+          5611 non-null   int64  \n",
      "dtypes: float64(1), int64(5), object(3)\n",
      "memory usage: 394.6+ KB\n"
     ]
    },
    {
     "data": {
      "text/plain": [
       "None"
      ]
     },
     "metadata": {},
     "output_type": "display_data"
    }
   ],
   "source": [
    "display(video_data.info())"
   ]
  },
  {
   "cell_type": "code",
   "execution_count": 6,
   "metadata": {},
   "outputs": [
    {
     "data": {
      "text/html": [
       "<div>\n",
       "<style scoped>\n",
       "    .dataframe tbody tr th:only-of-type {\n",
       "        vertical-align: middle;\n",
       "    }\n",
       "\n",
       "    .dataframe tbody tr th {\n",
       "        vertical-align: top;\n",
       "    }\n",
       "\n",
       "    .dataframe thead th {\n",
       "        text-align: right;\n",
       "    }\n",
       "</style>\n",
       "<table border=\"1\" class=\"dataframe\">\n",
       "  <thead>\n",
       "    <tr style=\"text-align: right;\">\n",
       "      <th></th>\n",
       "      <th>Title</th>\n",
       "      <th>Year</th>\n",
       "      <th>Age</th>\n",
       "      <th>IMDb</th>\n",
       "      <th>Rotten Tomatoes</th>\n",
       "      <th>Netflix</th>\n",
       "      <th>Hulu</th>\n",
       "      <th>Prime Video</th>\n",
       "      <th>Disney+</th>\n",
       "    </tr>\n",
       "  </thead>\n",
       "  <tbody>\n",
       "    <tr>\n",
       "      <th>3119</th>\n",
       "      <td>Abandoned</td>\n",
       "      <td>2012</td>\n",
       "      <td>NaN</td>\n",
       "      <td>NaN</td>\n",
       "      <td>NaN</td>\n",
       "      <td>0</td>\n",
       "      <td>1</td>\n",
       "      <td>0</td>\n",
       "      <td>0</td>\n",
       "    </tr>\n",
       "    <tr>\n",
       "      <th>2804</th>\n",
       "      <td>Abandoned</td>\n",
       "      <td>2016</td>\n",
       "      <td>16+</td>\n",
       "      <td>8.4</td>\n",
       "      <td>NaN</td>\n",
       "      <td>0</td>\n",
       "      <td>1</td>\n",
       "      <td>0</td>\n",
       "      <td>0</td>\n",
       "    </tr>\n",
       "    <tr>\n",
       "      <th>2580</th>\n",
       "      <td>American Gladiators</td>\n",
       "      <td>1989</td>\n",
       "      <td>7+</td>\n",
       "      <td>6.5</td>\n",
       "      <td>NaN</td>\n",
       "      <td>0</td>\n",
       "      <td>1</td>\n",
       "      <td>0</td>\n",
       "      <td>0</td>\n",
       "    </tr>\n",
       "    <tr>\n",
       "      <th>3044</th>\n",
       "      <td>American Gladiators</td>\n",
       "      <td>2008</td>\n",
       "      <td>NaN</td>\n",
       "      <td>5.6</td>\n",
       "      <td>NaN</td>\n",
       "      <td>0</td>\n",
       "      <td>1</td>\n",
       "      <td>0</td>\n",
       "      <td>0</td>\n",
       "    </tr>\n",
       "    <tr>\n",
       "      <th>3776</th>\n",
       "      <td>American Gothic</td>\n",
       "      <td>2016</td>\n",
       "      <td>16+</td>\n",
       "      <td>6.7</td>\n",
       "      <td>58%</td>\n",
       "      <td>0</td>\n",
       "      <td>0</td>\n",
       "      <td>1</td>\n",
       "      <td>0</td>\n",
       "    </tr>\n",
       "    <tr>\n",
       "      <th>2271</th>\n",
       "      <td>American Gothic</td>\n",
       "      <td>1995</td>\n",
       "      <td>7+</td>\n",
       "      <td>8.1</td>\n",
       "      <td>67%</td>\n",
       "      <td>0</td>\n",
       "      <td>1</td>\n",
       "      <td>0</td>\n",
       "      <td>0</td>\n",
       "    </tr>\n",
       "    <tr>\n",
       "      <th>2226</th>\n",
       "      <td>Baby Daddy</td>\n",
       "      <td>2012</td>\n",
       "      <td>16+</td>\n",
       "      <td>7.3</td>\n",
       "      <td>NaN</td>\n",
       "      <td>0</td>\n",
       "      <td>1</td>\n",
       "      <td>0</td>\n",
       "      <td>0</td>\n",
       "    </tr>\n",
       "    <tr>\n",
       "      <th>1370</th>\n",
       "      <td>Baby Daddy</td>\n",
       "      <td>2015</td>\n",
       "      <td>16+</td>\n",
       "      <td>6.0</td>\n",
       "      <td>78%</td>\n",
       "      <td>1</td>\n",
       "      <td>0</td>\n",
       "      <td>0</td>\n",
       "      <td>0</td>\n",
       "    </tr>\n",
       "    <tr>\n",
       "      <th>4397</th>\n",
       "      <td>Baby Talk</td>\n",
       "      <td>1991</td>\n",
       "      <td>all</td>\n",
       "      <td>4.2</td>\n",
       "      <td>NaN</td>\n",
       "      <td>0</td>\n",
       "      <td>0</td>\n",
       "      <td>1</td>\n",
       "      <td>0</td>\n",
       "    </tr>\n",
       "    <tr>\n",
       "      <th>5235</th>\n",
       "      <td>Baby Talk</td>\n",
       "      <td>2017</td>\n",
       "      <td>NaN</td>\n",
       "      <td>NaN</td>\n",
       "      <td>NaN</td>\n",
       "      <td>0</td>\n",
       "      <td>0</td>\n",
       "      <td>1</td>\n",
       "      <td>0</td>\n",
       "    </tr>\n",
       "    <tr>\n",
       "      <th>2193</th>\n",
       "      <td>Battlestar Galactica</td>\n",
       "      <td>1978</td>\n",
       "      <td>7+</td>\n",
       "      <td>7.2</td>\n",
       "      <td>33%</td>\n",
       "      <td>0</td>\n",
       "      <td>1</td>\n",
       "      <td>0</td>\n",
       "      <td>0</td>\n",
       "    </tr>\n",
       "    <tr>\n",
       "      <th>1989</th>\n",
       "      <td>Battlestar Galactica</td>\n",
       "      <td>2004</td>\n",
       "      <td>16+</td>\n",
       "      <td>8.6</td>\n",
       "      <td>82%</td>\n",
       "      <td>0</td>\n",
       "      <td>1</td>\n",
       "      <td>0</td>\n",
       "      <td>0</td>\n",
       "    </tr>\n",
       "    <tr>\n",
       "      <th>2185</th>\n",
       "      <td>Ben 10</td>\n",
       "      <td>2005</td>\n",
       "      <td>7+</td>\n",
       "      <td>7.2</td>\n",
       "      <td>NaN</td>\n",
       "      <td>0</td>\n",
       "      <td>1</td>\n",
       "      <td>0</td>\n",
       "      <td>0</td>\n",
       "    </tr>\n",
       "    <tr>\n",
       "      <th>734</th>\n",
       "      <td>Ben 10</td>\n",
       "      <td>2016</td>\n",
       "      <td>7+</td>\n",
       "      <td>2.5</td>\n",
       "      <td>NaN</td>\n",
       "      <td>1</td>\n",
       "      <td>0</td>\n",
       "      <td>0</td>\n",
       "      <td>0</td>\n",
       "    </tr>\n",
       "    <tr>\n",
       "      <th>2246</th>\n",
       "      <td>Bleak House</td>\n",
       "      <td>2005</td>\n",
       "      <td>16+</td>\n",
       "      <td>8.3</td>\n",
       "      <td>NaN</td>\n",
       "      <td>0</td>\n",
       "      <td>1</td>\n",
       "      <td>0</td>\n",
       "      <td>0</td>\n",
       "    </tr>\n",
       "    <tr>\n",
       "      <th>2906</th>\n",
       "      <td>Bleak House</td>\n",
       "      <td>1985</td>\n",
       "      <td>NaN</td>\n",
       "      <td>7.4</td>\n",
       "      <td>NaN</td>\n",
       "      <td>0</td>\n",
       "      <td>1</td>\n",
       "      <td>1</td>\n",
       "      <td>0</td>\n",
       "    </tr>\n",
       "    <tr>\n",
       "      <th>629</th>\n",
       "      <td>Charmed</td>\n",
       "      <td>2018</td>\n",
       "      <td>16+</td>\n",
       "      <td>4.5</td>\n",
       "      <td>NaN</td>\n",
       "      <td>1</td>\n",
       "      <td>0</td>\n",
       "      <td>0</td>\n",
       "      <td>0</td>\n",
       "    </tr>\n",
       "    <tr>\n",
       "      <th>133</th>\n",
       "      <td>Charmed</td>\n",
       "      <td>1998</td>\n",
       "      <td>16+</td>\n",
       "      <td>7.1</td>\n",
       "      <td>75%</td>\n",
       "      <td>1</td>\n",
       "      <td>0</td>\n",
       "      <td>0</td>\n",
       "      <td>0</td>\n",
       "    </tr>\n",
       "    <tr>\n",
       "      <th>4437</th>\n",
       "      <td>Clifford the Big Red Dog</td>\n",
       "      <td>2019</td>\n",
       "      <td>all</td>\n",
       "      <td>5.9</td>\n",
       "      <td>NaN</td>\n",
       "      <td>0</td>\n",
       "      <td>0</td>\n",
       "      <td>1</td>\n",
       "      <td>0</td>\n",
       "    </tr>\n",
       "    <tr>\n",
       "      <th>3907</th>\n",
       "      <td>Clifford the Big Red Dog</td>\n",
       "      <td>2000</td>\n",
       "      <td>all</td>\n",
       "      <td>6.6</td>\n",
       "      <td>NaN</td>\n",
       "      <td>0</td>\n",
       "      <td>0</td>\n",
       "      <td>1</td>\n",
       "      <td>0</td>\n",
       "    </tr>\n",
       "  </tbody>\n",
       "</table>\n",
       "</div>"
      ],
      "text/plain": [
       "                         Title  Year  Age  IMDb Rotten Tomatoes  Netflix  \\\n",
       "3119                 Abandoned  2012  NaN   NaN             NaN        0   \n",
       "2804                 Abandoned  2016  16+   8.4             NaN        0   \n",
       "2580       American Gladiators  1989   7+   6.5             NaN        0   \n",
       "3044       American Gladiators  2008  NaN   5.6             NaN        0   \n",
       "3776           American Gothic  2016  16+   6.7             58%        0   \n",
       "2271           American Gothic  1995   7+   8.1             67%        0   \n",
       "2226                Baby Daddy  2012  16+   7.3             NaN        0   \n",
       "1370                Baby Daddy  2015  16+   6.0             78%        1   \n",
       "4397                 Baby Talk  1991  all   4.2             NaN        0   \n",
       "5235                 Baby Talk  2017  NaN   NaN             NaN        0   \n",
       "2193      Battlestar Galactica  1978   7+   7.2             33%        0   \n",
       "1989      Battlestar Galactica  2004  16+   8.6             82%        0   \n",
       "2185                    Ben 10  2005   7+   7.2             NaN        0   \n",
       "734                     Ben 10  2016   7+   2.5             NaN        1   \n",
       "2246               Bleak House  2005  16+   8.3             NaN        0   \n",
       "2906               Bleak House  1985  NaN   7.4             NaN        0   \n",
       "629                    Charmed  2018  16+   4.5             NaN        1   \n",
       "133                    Charmed  1998  16+   7.1             75%        1   \n",
       "4437  Clifford the Big Red Dog  2019  all   5.9             NaN        0   \n",
       "3907  Clifford the Big Red Dog  2000  all   6.6             NaN        0   \n",
       "\n",
       "      Hulu  Prime Video  Disney+  \n",
       "3119     1            0        0  \n",
       "2804     1            0        0  \n",
       "2580     1            0        0  \n",
       "3044     1            0        0  \n",
       "3776     0            1        0  \n",
       "2271     1            0        0  \n",
       "2226     1            0        0  \n",
       "1370     0            0        0  \n",
       "4397     0            1        0  \n",
       "5235     0            1        0  \n",
       "2193     1            0        0  \n",
       "1989     1            0        0  \n",
       "2185     1            0        0  \n",
       "734      0            0        0  \n",
       "2246     1            0        0  \n",
       "2906     1            1        0  \n",
       "629      0            0        0  \n",
       "133      0            0        0  \n",
       "4437     0            1        0  \n",
       "3907     0            1        0  "
      ]
     },
     "metadata": {},
     "output_type": "display_data"
    }
   ],
   "source": [
    "#Testing for duplicated TV show Titles\n",
    "duplicates = video_data.duplicated(subset='Title', keep=False)\n",
    "duplicated_values = video_data[duplicates].sort_values('Title')\n",
    "display(duplicated_values.head(20))"
   ]
  },
  {
   "cell_type": "code",
   "execution_count": 7,
   "metadata": {},
   "outputs": [],
   "source": [
    "#Duplicates are likely to be different shows sharing the same title, due to mostly different attributes (no identical year)"
   ]
  },
  {
   "cell_type": "code",
   "execution_count": 8,
   "metadata": {},
   "outputs": [
    {
     "data": {
      "image/png": "[encoded data removed]",
      "text/plain": [
       "<Figure size 432x288 with 1 Axes>"
      ]
     },
     "metadata": {},
     "output_type": "display_data"
    }
   ],
   "source": [
    "#Pie Chart for total tv-show distribution\n",
    "\n",
    "netflix_sum = video_data['Netflix'].sum()\n",
    "hulu_sum = video_data['Hulu'].sum()\n",
    "prime_sum = video_data['Prime Video'].sum()\n",
    "disney_sum = video_data['Disney+'].sum()\n",
    "\n",
    "market_shares = [netflix_sum, hulu_sum, prime_sum, disney_sum]\n",
    "labels = ('Netflix', 'Hulu', 'Amazon Prime', 'Disney+')\n",
    "sep = (0.05, 0.05, 0.05, 0.05)\n",
    "\n",
    "fig, ax = plt.subplots()\n",
    "\n",
    "ax.pie(market_shares,\n",
    "      explode=sep,\n",
    "      labels = labels,\n",
    "      autopct = '%.1f%%',\n",
    "      radius=2,\n",
    "     textprops={'fontsize': 14})\n",
    "\n",
    "plt.show()"
   ]
  },
  {
   "cell_type": "code",
   "execution_count": 9,
   "metadata": {},
   "outputs": [],
   "source": [
    "#Dataframes for each platform\n",
    "netflix_shows = video_data.loc[video_data['Netflix'] == 1].drop(['Hulu', 'Prime Video', 'Disney+'], axis=1)\n",
    "hulu_shows = video_data.loc[video_data['Hulu'] == 1].drop(['Netflix', 'Prime Video', 'Disney+'], axis=1)\n",
    "prime_shows = video_data.loc[video_data['Prime Video'] == 1].drop(['Hulu', 'Netflix', 'Disney+'], axis=1)\n",
    "disney_shows = video_data.loc[video_data['Disney+'] == 1].drop(['Hulu', 'Prime Video', 'Netflix'], axis=1)\n"
   ]
  },
  {
   "cell_type": "code",
   "execution_count": 10,
   "metadata": {},
   "outputs": [],
   "source": [
    "#Who is the platform with the most highly rated shows?\n",
    "top_netflix_shows = netflix_shows['IMDb'] > 8\n",
    "top_hulu_shows = hulu_shows['IMDb'] > 8 \n",
    "top_prime_shows = prime_shows['IMDb'] > 8\n",
    "top_disney_shows = disney_shows['IMDb'] > 8\n",
    "\n",
    "top_rated_shows = pd.DataFrame({\n",
    "    'platforms' : ['Netflix', \n",
    "                   'Hulu', \n",
    "                   'Prime Video', \n",
    "                   'Disney'],\n",
    "    'total_mov' : [top_netflix_shows.sum(),\n",
    "                   top_hulu_shows.sum(),\n",
    "                   top_prime_shows.sum(),\n",
    "                   top_disney_shows.sum()]})"
   ]
  },
  {
   "cell_type": "code",
   "execution_count": 11,
   "metadata": {},
   "outputs": [
    {
     "data": {
      "image/png": "[encoded data removed]",
      "text/plain": [
       "<Figure size 432x288 with 1 Axes>"
      ]
     },
     "metadata": {
      "needs_background": "light"
     },
     "output_type": "display_data"
    }
   ],
   "source": [
    "sns.barplot(x = top_rated_shows['platforms'],\n",
    "            y = top_rated_shows['total_mov'],\n",
    "            data = top_rated_shows,\n",
    "           palette = 'bright')\n",
    "\n",
    "plt.xlabel('Platforms')\n",
    "plt.ylabel('Total shows with 8+ Ratings')\n",
    "plt.title('Platforms with Highly Rated Shows')\n",
    "plt.show()"
   ]
  },
  {
   "cell_type": "code",
   "execution_count": 12,
   "metadata": {},
   "outputs": [
    {
     "name": "stdout",
     "output_type": "stream",
     "text": [
      "Netflix provides on average 20 high quality tv-shows out of every 100 tv-shoows\n",
      "Hulu provides on average 16 high quality tv-shows out of every 100 tv-shoows\n",
      "Prime Video provides on average 14 high quality tv-shows out of every 100 tv-shoows\n",
      "Disney+ provides on average 17 high quality tv-shows out of every 100 tv-shoows\n"
     ]
    }
   ],
   "source": [
    "#Who is the platform with the best concentration of highly rated shows? \n",
    "\n",
    "ratio_netflix = (top_netflix_shows.sum() / netflix_sum * 100)\n",
    "ratio_hulu = (top_hulu_shows.sum() / hulu_sum * 100)\n",
    "ratio_prime = (top_prime_shows.sum() / prime_sum * 100)\n",
    "ratio_disney = (top_disney_shows.sum() / disney_sum * 100)\n",
    "\n",
    "print('Netflix provides on average ' + str(int(round(ratio_netflix))) + ' high quality tv-shows out of every 100 tv-shoows')\n",
    "print('Hulu provides on average ' + str(int(round(ratio_hulu))) + ' high quality tv-shows out of every 100 tv-shoows')\n",
    "print('Prime Video provides on average ' + str(int(round(ratio_prime))) + ' high quality tv-shows out of every 100 tv-shoows')\n",
    "print('Disney+ provides on average ' + str(int(round(ratio_disney))) + ' high quality tv-shows out of every 100 tv-shoows')\n"
   ]
  },
  {
   "cell_type": "code",
   "execution_count": 13,
   "metadata": {},
   "outputs": [
    {
     "data": {
      "image/png": "[encoded data removed]",
      "text/plain": [
       "<Figure size 432x288 with 1 Axes>"
      ]
     },
     "metadata": {
      "needs_background": "light"
     },
     "output_type": "display_data"
    }
   ],
   "source": [
    "top_rated_ratios = ({\n",
    "    'platforms' : ['Netflix',\n",
    "                   'Hulu',\n",
    "                   'Prime Video',\n",
    "                  'Disney+'],\n",
    "    'ratios' : [ratio_netflix,\n",
    "               ratio_hulu,\n",
    "               ratio_prime,\n",
    "               ratio_disney]\n",
    "})\n",
    "\n",
    "sns.barplot(x = top_rated_ratios['platforms'],\n",
    "           y = top_rated_ratios['ratios'],\n",
    "           palette = 'colorblind')\n",
    "\n",
    "plt.xlabel('Platforms')\n",
    "plt.ylabel('Number of highly rated tv-shows per 100')\n",
    "plt.title('High Quality Show Concentration')\n",
    "\n",
    "plt.show()"
   ]
  },
  {
   "cell_type": "code",
   "execution_count": 14,
   "metadata": {},
   "outputs": [
    {
     "data": {
      "image/png": "[encoded data removed]",
      "text/plain": [
       "<Figure size 576x288 with 1 Axes>"
      ]
     },
     "metadata": {
      "needs_background": "light"
     },
     "output_type": "display_data"
    }
   ],
   "source": [
    "#Best tv-shows on offer for each streaming platform according to IMDb\n",
    "\n",
    "netflix_top_10 = netflix_shows.sort_values(by='IMDb', ascending = False).head(10)\n",
    "\n",
    "plt.figure(figsize=(8,4))\n",
    "sns.barplot(x='IMDb', y='Title', data=netflix_top_10, palette='bright')\n",
    "\n",
    "plt.xlabel('IMDb Score')\n",
    "plt.ylabel('TV Show')\n",
    "plt.title('Highest Rated Netflix Shows')\n",
    "\n",
    "plt.show()"
   ]
  },
  {
   "cell_type": "code",
   "execution_count": 15,
   "metadata": {},
   "outputs": [
    {
     "data": {
      "image/png": "[encoded data removed]",
      "text/plain": [
       "<Figure size 576x288 with 1 Axes>"
      ]
     },
     "metadata": {
      "needs_background": "light"
     },
     "output_type": "display_data"
    }
   ],
   "source": [
    "hulu_top_10 = hulu_shows.sort_values(by='IMDb', ascending = False).head(10)\n",
    "\n",
    "plt.figure(figsize=(8,4))\n",
    "sns.barplot(x='IMDb', y='Title', data=hulu_top_10, palette='bright')\n",
    "\n",
    "plt.xlabel('IMDb Score')\n",
    "plt.ylabel('TV Show')\n",
    "plt.title('Highest Rated Hulu Shows')\n",
    "\n",
    "plt.show()"
   ]
  },
  {
   "cell_type": "code",
   "execution_count": 16,
   "metadata": {},
   "outputs": [
    {
     "data": {
      "image/png": "[encoded data removed]",
      "text/plain": [
       "<Figure size 576x288 with 1 Axes>"
      ]
     },
     "metadata": {
      "needs_background": "light"
     },
     "output_type": "display_data"
    }
   ],
   "source": [
    "prime_top_10 = prime_shows.sort_values(by='IMDb', ascending = False).head(10)\n",
    "\n",
    "plt.figure(figsize=(8,4))\n",
    "sns.barplot(x='IMDb', y='Title', data=prime_top_10, palette='bright')\n",
    "\n",
    "plt.xlabel('IMDb Score')\n",
    "plt.ylabel('TV Show')\n",
    "plt.title('Highest Rated Prime Shows')\n",
    "\n",
    "plt.show()"
   ]
  },
  {
   "cell_type": "code",
   "execution_count": 17,
   "metadata": {},
   "outputs": [
    {
     "data": {
      "image/png": "[encoded data removed]",
      "text/plain": [
       "<Figure size 576x288 with 1 Axes>"
      ]
     },
     "metadata": {
      "needs_background": "light"
     },
     "output_type": "display_data"
    }
   ],
   "source": [
    "disney_top_10 = disney_shows.sort_values(by='IMDb', ascending = False).head(10)\n",
    "\n",
    "plt.figure(figsize=(8,4))\n",
    "sns.barplot(x='IMDb', y='Title', data=disney_top_10, palette='bright')\n",
    "\n",
    "plt.xlabel('IMDb Score')\n",
    "plt.ylabel('TV Show')\n",
    "plt.title('Highest Rated Disney+ Shows')\n",
    "\n",
    "plt.show()"
   ]
  },
  {
   "cell_type": "code",
   "execution_count": 18,
   "metadata": {},
   "outputs": [
    {
     "data": {
      "text/plain": [
       "<Figure size 360x360 with 0 Axes>"
      ]
     },
     "metadata": {},
     "output_type": "display_data"
    },
    {
     "data": {
      "image/png": "[encoded data removed]",
      "text/plain": [
       "<Figure size 456.125x360 with 1 Axes>"
      ]
     },
     "metadata": {
      "needs_background": "light"
     },
     "output_type": "display_data"
    }
   ],
   "source": [
    "#Who has access to the top 10 tv-shows currently?\n",
    "\n",
    "video_data['platform'] = video_data[['Netflix', 'Hulu', 'Prime Video', 'Disney+']].idxmax(axis=1)\n",
    "\n",
    "overall_top_10 = video_data.sort_values(by='IMDb', ascending=False).head(10)\n",
    "\n",
    "plt.figure(figsize=(5,5))\n",
    "sns.catplot(x='IMDb', y='Title', data=overall_top_10,hue='platform', kind='bar')\n",
    "plt.show()"
   ]
  }
 ],
 "metadata": {
  "kernelspec": {
   "display_name": "Python 3",
   "language": "python",
   "name": "python3"
  },
  "language_info": {
   "codemirror_mode": {
    "name": "ipython",
    "version": 3
   },
   "file_extension": ".py",
   "mimetype": "text/x-python",
   "name": "python",
   "nbconvert_exporter": "python",
   "pygments_lexer": "ipython3",
   "version": "3.7.6"
  }
 },
 "nbformat": 4,
 "nbformat_minor": 4
}
