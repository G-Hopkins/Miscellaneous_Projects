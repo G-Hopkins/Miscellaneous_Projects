{
 "cells": [
  {
   "cell_type": "markdown",
   "metadata": {},
   "source": [
    "## AAPL Stock Neural Network Prediction for 2019/2020"
   ]
  },
  {
   "cell_type": "markdown",
   "metadata": {},
   "source": [
    "### Utilising the an LSTM MOdel for AAPL stock price predictions, 4 years of training data (2015-2019), 1 year of testing data (2019-2020)"
   ]
  },
  {
   "cell_type": "code",
   "execution_count": 1,
   "metadata": {},
   "outputs": [],
   "source": [
    "#Imporing necessary modules\n",
    "import numpy as np\n",
    "import pandas as pd\n",
    "import matplotlib.pyplot as plt\n",
    "from datetime import datetime\n",
    "from io import StringIO\n",
    "\n",
    "from sklearn.preprocessing import MinMaxScaler\n",
    "\n",
    "from tensorflow.keras import Sequential\n",
    "from tensorflow.keras.layers import Dense, Dropout, LSTM"
   ]
  },
  {
   "cell_type": "code",
   "execution_count": 2,
   "metadata": {},
   "outputs": [],
   "source": [
    "#Reading in primary df\n",
    "data = pd.read_csv('aapl_historical_data.csv')\n",
    "data['Date'] = pd.to_datetime(data['Date'], format = '%b %d, %Y')"
   ]
  },
  {
   "cell_type": "code",
   "execution_count": 3,
   "metadata": {},
   "outputs": [
    {
     "data": {
      "text/html": [
       "<div>\n",
       "<style scoped>\n",
       "    .dataframe tbody tr th:only-of-type {\n",
       "        vertical-align: middle;\n",
       "    }\n",
       "\n",
       "    .dataframe tbody tr th {\n",
       "        vertical-align: top;\n",
       "    }\n",
       "\n",
       "    .dataframe thead th {\n",
       "        text-align: right;\n",
       "    }\n",
       "</style>\n",
       "<table border=\"1\" class=\"dataframe\">\n",
       "  <thead>\n",
       "    <tr style=\"text-align: right;\">\n",
       "      <th></th>\n",
       "      <th>Date</th>\n",
       "      <th>Price</th>\n",
       "      <th>Open</th>\n",
       "      <th>High</th>\n",
       "      <th>Low</th>\n",
       "      <th>Vol.</th>\n",
       "      <th>Change %</th>\n",
       "    </tr>\n",
       "  </thead>\n",
       "  <tbody>\n",
       "    <tr>\n",
       "      <th>0</th>\n",
       "      <td>2020-08-19</td>\n",
       "      <td>467.57</td>\n",
       "      <td>463.95</td>\n",
       "      <td>468.63</td>\n",
       "      <td>462.61</td>\n",
       "      <td>14.89M</td>\n",
       "      <td>1.15%</td>\n",
       "    </tr>\n",
       "    <tr>\n",
       "      <th>1</th>\n",
       "      <td>2020-08-18</td>\n",
       "      <td>462.25</td>\n",
       "      <td>457.74</td>\n",
       "      <td>463.99</td>\n",
       "      <td>456.10</td>\n",
       "      <td>26.41M</td>\n",
       "      <td>0.83%</td>\n",
       "    </tr>\n",
       "    <tr>\n",
       "      <th>2</th>\n",
       "      <td>2020-08-17</td>\n",
       "      <td>458.43</td>\n",
       "      <td>464.02</td>\n",
       "      <td>464.02</td>\n",
       "      <td>455.90</td>\n",
       "      <td>430.64K</td>\n",
       "      <td>-0.26%</td>\n",
       "    </tr>\n",
       "    <tr>\n",
       "      <th>3</th>\n",
       "      <td>2020-08-14</td>\n",
       "      <td>459.63</td>\n",
       "      <td>459.32</td>\n",
       "      <td>460.00</td>\n",
       "      <td>452.18</td>\n",
       "      <td>41.39M</td>\n",
       "      <td>-0.09%</td>\n",
       "    </tr>\n",
       "    <tr>\n",
       "      <th>4</th>\n",
       "      <td>2020-08-13</td>\n",
       "      <td>460.04</td>\n",
       "      <td>458.00</td>\n",
       "      <td>464.12</td>\n",
       "      <td>455.71</td>\n",
       "      <td>52.52M</td>\n",
       "      <td>1.77%</td>\n",
       "    </tr>\n",
       "  </tbody>\n",
       "</table>\n",
       "</div>"
      ],
      "text/plain": [
       "        Date   Price    Open    High     Low     Vol. Change %\n",
       "0 2020-08-19  467.57  463.95  468.63  462.61   14.89M    1.15%\n",
       "1 2020-08-18  462.25  457.74  463.99  456.10   26.41M    0.83%\n",
       "2 2020-08-17  458.43  464.02  464.02  455.90  430.64K   -0.26%\n",
       "3 2020-08-14  459.63  459.32  460.00  452.18   41.39M   -0.09%\n",
       "4 2020-08-13  460.04  458.00  464.12  455.71   52.52M    1.77%"
      ]
     },
     "metadata": {},
     "output_type": "display_data"
    },
    {
     "data": {
      "text/html": [
       "<div>\n",
       "<style scoped>\n",
       "    .dataframe tbody tr th:only-of-type {\n",
       "        vertical-align: middle;\n",
       "    }\n",
       "\n",
       "    .dataframe tbody tr th {\n",
       "        vertical-align: top;\n",
       "    }\n",
       "\n",
       "    .dataframe thead th {\n",
       "        text-align: right;\n",
       "    }\n",
       "</style>\n",
       "<table border=\"1\" class=\"dataframe\">\n",
       "  <thead>\n",
       "    <tr style=\"text-align: right;\">\n",
       "      <th></th>\n",
       "      <th>Date</th>\n",
       "      <th>Price</th>\n",
       "      <th>Open</th>\n",
       "      <th>High</th>\n",
       "      <th>Low</th>\n",
       "      <th>Vol.</th>\n",
       "      <th>Change %</th>\n",
       "    </tr>\n",
       "  </thead>\n",
       "  <tbody>\n",
       "    <tr>\n",
       "      <th>1256</th>\n",
       "      <td>2015-08-25</td>\n",
       "      <td>103.74</td>\n",
       "      <td>111.11</td>\n",
       "      <td>111.11</td>\n",
       "      <td>103.50</td>\n",
       "      <td>103.60M</td>\n",
       "      <td>0.60%</td>\n",
       "    </tr>\n",
       "    <tr>\n",
       "      <th>1257</th>\n",
       "      <td>2015-08-24</td>\n",
       "      <td>103.12</td>\n",
       "      <td>94.87</td>\n",
       "      <td>108.80</td>\n",
       "      <td>92.00</td>\n",
       "      <td>162.21M</td>\n",
       "      <td>-2.50%</td>\n",
       "    </tr>\n",
       "    <tr>\n",
       "      <th>1258</th>\n",
       "      <td>2015-08-21</td>\n",
       "      <td>105.76</td>\n",
       "      <td>110.43</td>\n",
       "      <td>111.90</td>\n",
       "      <td>105.64</td>\n",
       "      <td>128.28M</td>\n",
       "      <td>-6.12%</td>\n",
       "    </tr>\n",
       "    <tr>\n",
       "      <th>1259</th>\n",
       "      <td>2015-08-20</td>\n",
       "      <td>112.65</td>\n",
       "      <td>114.08</td>\n",
       "      <td>114.35</td>\n",
       "      <td>111.63</td>\n",
       "      <td>68.50M</td>\n",
       "      <td>-2.05%</td>\n",
       "    </tr>\n",
       "    <tr>\n",
       "      <th>1260</th>\n",
       "      <td>2015-08-19</td>\n",
       "      <td>115.01</td>\n",
       "      <td>116.10</td>\n",
       "      <td>116.52</td>\n",
       "      <td>114.68</td>\n",
       "      <td>48.29M</td>\n",
       "      <td>-1.28%</td>\n",
       "    </tr>\n",
       "  </tbody>\n",
       "</table>\n",
       "</div>"
      ],
      "text/plain": [
       "           Date   Price    Open    High     Low     Vol. Change %\n",
       "1256 2015-08-25  103.74  111.11  111.11  103.50  103.60M    0.60%\n",
       "1257 2015-08-24  103.12   94.87  108.80   92.00  162.21M   -2.50%\n",
       "1258 2015-08-21  105.76  110.43  111.90  105.64  128.28M   -6.12%\n",
       "1259 2015-08-20  112.65  114.08  114.35  111.63   68.50M   -2.05%\n",
       "1260 2015-08-19  115.01  116.10  116.52  114.68   48.29M   -1.28%"
      ]
     },
     "metadata": {},
     "output_type": "display_data"
    }
   ],
   "source": [
    "#Initial inspection\n",
    "display(data.head())\n",
    "display(data.tail())"
   ]
  },
  {
   "cell_type": "code",
   "execution_count": 4,
   "metadata": {},
   "outputs": [
    {
     "data": {
      "text/html": [
       "<div>\n",
       "<style scoped>\n",
       "    .dataframe tbody tr th:only-of-type {\n",
       "        vertical-align: middle;\n",
       "    }\n",
       "\n",
       "    .dataframe tbody tr th {\n",
       "        vertical-align: top;\n",
       "    }\n",
       "\n",
       "    .dataframe thead th {\n",
       "        text-align: right;\n",
       "    }\n",
       "</style>\n",
       "<table border=\"1\" class=\"dataframe\">\n",
       "  <thead>\n",
       "    <tr style=\"text-align: right;\">\n",
       "      <th></th>\n",
       "      <th>Date</th>\n",
       "      <th>Price</th>\n",
       "      <th>Open</th>\n",
       "      <th>High</th>\n",
       "      <th>Low</th>\n",
       "      <th>Vol.</th>\n",
       "      <th>Change %</th>\n",
       "    </tr>\n",
       "  </thead>\n",
       "  <tbody>\n",
       "    <tr>\n",
       "      <th>1260</th>\n",
       "      <td>2015-08-19</td>\n",
       "      <td>115.01</td>\n",
       "      <td>116.10</td>\n",
       "      <td>116.52</td>\n",
       "      <td>114.68</td>\n",
       "      <td>48.29M</td>\n",
       "      <td>-1.28%</td>\n",
       "    </tr>\n",
       "    <tr>\n",
       "      <th>1259</th>\n",
       "      <td>2015-08-20</td>\n",
       "      <td>112.65</td>\n",
       "      <td>114.08</td>\n",
       "      <td>114.35</td>\n",
       "      <td>111.63</td>\n",
       "      <td>68.50M</td>\n",
       "      <td>-2.05%</td>\n",
       "    </tr>\n",
       "    <tr>\n",
       "      <th>1258</th>\n",
       "      <td>2015-08-21</td>\n",
       "      <td>105.76</td>\n",
       "      <td>110.43</td>\n",
       "      <td>111.90</td>\n",
       "      <td>105.64</td>\n",
       "      <td>128.28M</td>\n",
       "      <td>-6.12%</td>\n",
       "    </tr>\n",
       "    <tr>\n",
       "      <th>1257</th>\n",
       "      <td>2015-08-24</td>\n",
       "      <td>103.12</td>\n",
       "      <td>94.87</td>\n",
       "      <td>108.80</td>\n",
       "      <td>92.00</td>\n",
       "      <td>162.21M</td>\n",
       "      <td>-2.50%</td>\n",
       "    </tr>\n",
       "    <tr>\n",
       "      <th>1256</th>\n",
       "      <td>2015-08-25</td>\n",
       "      <td>103.74</td>\n",
       "      <td>111.11</td>\n",
       "      <td>111.11</td>\n",
       "      <td>103.50</td>\n",
       "      <td>103.60M</td>\n",
       "      <td>0.60%</td>\n",
       "    </tr>\n",
       "  </tbody>\n",
       "</table>\n",
       "</div>"
      ],
      "text/plain": [
       "           Date   Price    Open    High     Low     Vol. Change %\n",
       "1260 2015-08-19  115.01  116.10  116.52  114.68   48.29M   -1.28%\n",
       "1259 2015-08-20  112.65  114.08  114.35  111.63   68.50M   -2.05%\n",
       "1258 2015-08-21  105.76  110.43  111.90  105.64  128.28M   -6.12%\n",
       "1257 2015-08-24  103.12   94.87  108.80   92.00  162.21M   -2.50%\n",
       "1256 2015-08-25  103.74  111.11  111.11  103.50  103.60M    0.60%"
      ]
     },
     "metadata": {},
     "output_type": "display_data"
    },
    {
     "data": {
      "text/html": [
       "<div>\n",
       "<style scoped>\n",
       "    .dataframe tbody tr th:only-of-type {\n",
       "        vertical-align: middle;\n",
       "    }\n",
       "\n",
       "    .dataframe tbody tr th {\n",
       "        vertical-align: top;\n",
       "    }\n",
       "\n",
       "    .dataframe thead th {\n",
       "        text-align: right;\n",
       "    }\n",
       "</style>\n",
       "<table border=\"1\" class=\"dataframe\">\n",
       "  <thead>\n",
       "    <tr style=\"text-align: right;\">\n",
       "      <th></th>\n",
       "      <th>Date</th>\n",
       "      <th>Price</th>\n",
       "      <th>Open</th>\n",
       "      <th>High</th>\n",
       "      <th>Low</th>\n",
       "      <th>Vol.</th>\n",
       "      <th>Change %</th>\n",
       "    </tr>\n",
       "  </thead>\n",
       "  <tbody>\n",
       "    <tr>\n",
       "      <th>4</th>\n",
       "      <td>2020-08-13</td>\n",
       "      <td>460.04</td>\n",
       "      <td>458.00</td>\n",
       "      <td>464.12</td>\n",
       "      <td>455.71</td>\n",
       "      <td>52.52M</td>\n",
       "      <td>1.77%</td>\n",
       "    </tr>\n",
       "    <tr>\n",
       "      <th>3</th>\n",
       "      <td>2020-08-14</td>\n",
       "      <td>459.63</td>\n",
       "      <td>459.32</td>\n",
       "      <td>460.00</td>\n",
       "      <td>452.18</td>\n",
       "      <td>41.39M</td>\n",
       "      <td>-0.09%</td>\n",
       "    </tr>\n",
       "    <tr>\n",
       "      <th>2</th>\n",
       "      <td>2020-08-17</td>\n",
       "      <td>458.43</td>\n",
       "      <td>464.02</td>\n",
       "      <td>464.02</td>\n",
       "      <td>455.90</td>\n",
       "      <td>430.64K</td>\n",
       "      <td>-0.26%</td>\n",
       "    </tr>\n",
       "    <tr>\n",
       "      <th>1</th>\n",
       "      <td>2020-08-18</td>\n",
       "      <td>462.25</td>\n",
       "      <td>457.74</td>\n",
       "      <td>463.99</td>\n",
       "      <td>456.10</td>\n",
       "      <td>26.41M</td>\n",
       "      <td>0.83%</td>\n",
       "    </tr>\n",
       "    <tr>\n",
       "      <th>0</th>\n",
       "      <td>2020-08-19</td>\n",
       "      <td>467.57</td>\n",
       "      <td>463.95</td>\n",
       "      <td>468.63</td>\n",
       "      <td>462.61</td>\n",
       "      <td>14.89M</td>\n",
       "      <td>1.15%</td>\n",
       "    </tr>\n",
       "  </tbody>\n",
       "</table>\n",
       "</div>"
      ],
      "text/plain": [
       "        Date   Price    Open    High     Low     Vol. Change %\n",
       "4 2020-08-13  460.04  458.00  464.12  455.71   52.52M    1.77%\n",
       "3 2020-08-14  459.63  459.32  460.00  452.18   41.39M   -0.09%\n",
       "2 2020-08-17  458.43  464.02  464.02  455.90  430.64K   -0.26%\n",
       "1 2020-08-18  462.25  457.74  463.99  456.10   26.41M    0.83%\n",
       "0 2020-08-19  467.57  463.95  468.63  462.61   14.89M    1.15%"
      ]
     },
     "metadata": {},
     "output_type": "display_data"
    }
   ],
   "source": [
    "#Reversing row order for time linearity\n",
    "data = data.iloc[::-1]\n",
    "display(data.head())\n",
    "display(data.tail())"
   ]
  },
  {
   "cell_type": "code",
   "execution_count": 5,
   "metadata": {},
   "outputs": [
    {
     "data": {
      "text/html": [
       "<div>\n",
       "<style scoped>\n",
       "    .dataframe tbody tr th:only-of-type {\n",
       "        vertical-align: middle;\n",
       "    }\n",
       "\n",
       "    .dataframe tbody tr th {\n",
       "        vertical-align: top;\n",
       "    }\n",
       "\n",
       "    .dataframe thead th {\n",
       "        text-align: right;\n",
       "    }\n",
       "</style>\n",
       "<table border=\"1\" class=\"dataframe\">\n",
       "  <thead>\n",
       "    <tr style=\"text-align: right;\">\n",
       "      <th></th>\n",
       "      <th>Date</th>\n",
       "      <th>Price</th>\n",
       "      <th>Open</th>\n",
       "      <th>High</th>\n",
       "      <th>Low</th>\n",
       "      <th>Vol.</th>\n",
       "      <th>Change %</th>\n",
       "    </tr>\n",
       "  </thead>\n",
       "  <tbody>\n",
       "    <tr>\n",
       "      <th>0</th>\n",
       "      <td>2015-08-19</td>\n",
       "      <td>115.01</td>\n",
       "      <td>116.10</td>\n",
       "      <td>116.52</td>\n",
       "      <td>114.68</td>\n",
       "      <td>48.29M</td>\n",
       "      <td>-1.28%</td>\n",
       "    </tr>\n",
       "    <tr>\n",
       "      <th>1</th>\n",
       "      <td>2015-08-20</td>\n",
       "      <td>112.65</td>\n",
       "      <td>114.08</td>\n",
       "      <td>114.35</td>\n",
       "      <td>111.63</td>\n",
       "      <td>68.50M</td>\n",
       "      <td>-2.05%</td>\n",
       "    </tr>\n",
       "    <tr>\n",
       "      <th>2</th>\n",
       "      <td>2015-08-21</td>\n",
       "      <td>105.76</td>\n",
       "      <td>110.43</td>\n",
       "      <td>111.90</td>\n",
       "      <td>105.64</td>\n",
       "      <td>128.28M</td>\n",
       "      <td>-6.12%</td>\n",
       "    </tr>\n",
       "    <tr>\n",
       "      <th>3</th>\n",
       "      <td>2015-08-24</td>\n",
       "      <td>103.12</td>\n",
       "      <td>94.87</td>\n",
       "      <td>108.80</td>\n",
       "      <td>92.00</td>\n",
       "      <td>162.21M</td>\n",
       "      <td>-2.50%</td>\n",
       "    </tr>\n",
       "    <tr>\n",
       "      <th>4</th>\n",
       "      <td>2015-08-25</td>\n",
       "      <td>103.74</td>\n",
       "      <td>111.11</td>\n",
       "      <td>111.11</td>\n",
       "      <td>103.50</td>\n",
       "      <td>103.60M</td>\n",
       "      <td>0.60%</td>\n",
       "    </tr>\n",
       "  </tbody>\n",
       "</table>\n",
       "</div>"
      ],
      "text/plain": [
       "        Date   Price    Open    High     Low     Vol. Change %\n",
       "0 2015-08-19  115.01  116.10  116.52  114.68   48.29M   -1.28%\n",
       "1 2015-08-20  112.65  114.08  114.35  111.63   68.50M   -2.05%\n",
       "2 2015-08-21  105.76  110.43  111.90  105.64  128.28M   -6.12%\n",
       "3 2015-08-24  103.12   94.87  108.80   92.00  162.21M   -2.50%\n",
       "4 2015-08-25  103.74  111.11  111.11  103.50  103.60M    0.60%"
      ]
     },
     "metadata": {},
     "output_type": "display_data"
    },
    {
     "data": {
      "text/html": [
       "<div>\n",
       "<style scoped>\n",
       "    .dataframe tbody tr th:only-of-type {\n",
       "        vertical-align: middle;\n",
       "    }\n",
       "\n",
       "    .dataframe tbody tr th {\n",
       "        vertical-align: top;\n",
       "    }\n",
       "\n",
       "    .dataframe thead th {\n",
       "        text-align: right;\n",
       "    }\n",
       "</style>\n",
       "<table border=\"1\" class=\"dataframe\">\n",
       "  <thead>\n",
       "    <tr style=\"text-align: right;\">\n",
       "      <th></th>\n",
       "      <th>Date</th>\n",
       "      <th>Price</th>\n",
       "      <th>Open</th>\n",
       "      <th>High</th>\n",
       "      <th>Low</th>\n",
       "      <th>Vol.</th>\n",
       "      <th>Change %</th>\n",
       "    </tr>\n",
       "  </thead>\n",
       "  <tbody>\n",
       "    <tr>\n",
       "      <th>1256</th>\n",
       "      <td>2020-08-13</td>\n",
       "      <td>460.04</td>\n",
       "      <td>458.00</td>\n",
       "      <td>464.12</td>\n",
       "      <td>455.71</td>\n",
       "      <td>52.52M</td>\n",
       "      <td>1.77%</td>\n",
       "    </tr>\n",
       "    <tr>\n",
       "      <th>1257</th>\n",
       "      <td>2020-08-14</td>\n",
       "      <td>459.63</td>\n",
       "      <td>459.32</td>\n",
       "      <td>460.00</td>\n",
       "      <td>452.18</td>\n",
       "      <td>41.39M</td>\n",
       "      <td>-0.09%</td>\n",
       "    </tr>\n",
       "    <tr>\n",
       "      <th>1258</th>\n",
       "      <td>2020-08-17</td>\n",
       "      <td>458.43</td>\n",
       "      <td>464.02</td>\n",
       "      <td>464.02</td>\n",
       "      <td>455.90</td>\n",
       "      <td>430.64K</td>\n",
       "      <td>-0.26%</td>\n",
       "    </tr>\n",
       "    <tr>\n",
       "      <th>1259</th>\n",
       "      <td>2020-08-18</td>\n",
       "      <td>462.25</td>\n",
       "      <td>457.74</td>\n",
       "      <td>463.99</td>\n",
       "      <td>456.10</td>\n",
       "      <td>26.41M</td>\n",
       "      <td>0.83%</td>\n",
       "    </tr>\n",
       "    <tr>\n",
       "      <th>1260</th>\n",
       "      <td>2020-08-19</td>\n",
       "      <td>467.57</td>\n",
       "      <td>463.95</td>\n",
       "      <td>468.63</td>\n",
       "      <td>462.61</td>\n",
       "      <td>14.89M</td>\n",
       "      <td>1.15%</td>\n",
       "    </tr>\n",
       "  </tbody>\n",
       "</table>\n",
       "</div>"
      ],
      "text/plain": [
       "           Date   Price    Open    High     Low     Vol. Change %\n",
       "1256 2020-08-13  460.04  458.00  464.12  455.71   52.52M    1.77%\n",
       "1257 2020-08-14  459.63  459.32  460.00  452.18   41.39M   -0.09%\n",
       "1258 2020-08-17  458.43  464.02  464.02  455.90  430.64K   -0.26%\n",
       "1259 2020-08-18  462.25  457.74  463.99  456.10   26.41M    0.83%\n",
       "1260 2020-08-19  467.57  463.95  468.63  462.61   14.89M    1.15%"
      ]
     },
     "metadata": {},
     "output_type": "display_data"
    }
   ],
   "source": [
    "#Re-indexing \n",
    "data.index = range(1261)\n",
    "display(data.head())\n",
    "display(data.tail())"
   ]
  },
  {
   "cell_type": "code",
   "execution_count": 6,
   "metadata": {},
   "outputs": [
    {
     "name": "stdout",
     "output_type": "stream",
     "text": [
      "<class 'pandas.core.frame.DataFrame'>\n",
      "RangeIndex: 1261 entries, 0 to 1260\n",
      "Data columns (total 7 columns):\n",
      " #   Column    Non-Null Count  Dtype         \n",
      "---  ------    --------------  -----         \n",
      " 0   Date      1261 non-null   datetime64[ns]\n",
      " 1   Price     1261 non-null   float64       \n",
      " 2   Open      1261 non-null   float64       \n",
      " 3   High      1261 non-null   float64       \n",
      " 4   Low       1261 non-null   float64       \n",
      " 5   Vol.      1261 non-null   object        \n",
      " 6   Change %  1261 non-null   object        \n",
      "dtypes: datetime64[ns](1), float64(4), object(2)\n",
      "memory usage: 69.1+ KB\n"
     ]
    },
    {
     "data": {
      "text/plain": [
       "None"
      ]
     },
     "metadata": {},
     "output_type": "display_data"
    }
   ],
   "source": [
    "#Checking all data are numeric\n",
    "display(data.info())"
   ]
  },
  {
   "cell_type": "code",
   "execution_count": 7,
   "metadata": {},
   "outputs": [
    {
     "data": {
      "text/html": [
       "<div>\n",
       "<style scoped>\n",
       "    .dataframe tbody tr th:only-of-type {\n",
       "        vertical-align: middle;\n",
       "    }\n",
       "\n",
       "    .dataframe tbody tr th {\n",
       "        vertical-align: top;\n",
       "    }\n",
       "\n",
       "    .dataframe thead th {\n",
       "        text-align: right;\n",
       "    }\n",
       "</style>\n",
       "<table border=\"1\" class=\"dataframe\">\n",
       "  <thead>\n",
       "    <tr style=\"text-align: right;\">\n",
       "      <th></th>\n",
       "      <th>Date</th>\n",
       "      <th>Price</th>\n",
       "      <th>Open</th>\n",
       "      <th>High</th>\n",
       "      <th>Low</th>\n",
       "      <th>Vol.</th>\n",
       "      <th>Change %</th>\n",
       "    </tr>\n",
       "  </thead>\n",
       "  <tbody>\n",
       "    <tr>\n",
       "      <th>0</th>\n",
       "      <td>2015-08-19</td>\n",
       "      <td>115.01</td>\n",
       "      <td>116.10</td>\n",
       "      <td>116.52</td>\n",
       "      <td>114.68</td>\n",
       "      <td>4.829e+07</td>\n",
       "      <td>-1.28</td>\n",
       "    </tr>\n",
       "    <tr>\n",
       "      <th>1</th>\n",
       "      <td>2015-08-20</td>\n",
       "      <td>112.65</td>\n",
       "      <td>114.08</td>\n",
       "      <td>114.35</td>\n",
       "      <td>111.63</td>\n",
       "      <td>6.85e+07</td>\n",
       "      <td>-2.05</td>\n",
       "    </tr>\n",
       "    <tr>\n",
       "      <th>2</th>\n",
       "      <td>2015-08-21</td>\n",
       "      <td>105.76</td>\n",
       "      <td>110.43</td>\n",
       "      <td>111.90</td>\n",
       "      <td>105.64</td>\n",
       "      <td>1.2828e+08</td>\n",
       "      <td>-6.12</td>\n",
       "    </tr>\n",
       "    <tr>\n",
       "      <th>3</th>\n",
       "      <td>2015-08-24</td>\n",
       "      <td>103.12</td>\n",
       "      <td>94.87</td>\n",
       "      <td>108.80</td>\n",
       "      <td>92.00</td>\n",
       "      <td>1.6221e+08</td>\n",
       "      <td>-2.50</td>\n",
       "    </tr>\n",
       "    <tr>\n",
       "      <th>4</th>\n",
       "      <td>2015-08-25</td>\n",
       "      <td>103.74</td>\n",
       "      <td>111.11</td>\n",
       "      <td>111.11</td>\n",
       "      <td>103.50</td>\n",
       "      <td>1.036e+08</td>\n",
       "      <td>0.60</td>\n",
       "    </tr>\n",
       "  </tbody>\n",
       "</table>\n",
       "</div>"
      ],
      "text/plain": [
       "        Date   Price    Open    High     Low        Vol. Change %\n",
       "0 2015-08-19  115.01  116.10  116.52  114.68   4.829e+07    -1.28\n",
       "1 2015-08-20  112.65  114.08  114.35  111.63    6.85e+07    -2.05\n",
       "2 2015-08-21  105.76  110.43  111.90  105.64  1.2828e+08    -6.12\n",
       "3 2015-08-24  103.12   94.87  108.80   92.00  1.6221e+08    -2.50\n",
       "4 2015-08-25  103.74  111.11  111.11  103.50   1.036e+08     0.60"
      ]
     },
     "metadata": {},
     "output_type": "display_data"
    },
    {
     "name": "stdout",
     "output_type": "stream",
     "text": [
      "<class 'pandas.core.frame.DataFrame'>\n",
      "RangeIndex: 1261 entries, 0 to 1260\n",
      "Data columns (total 7 columns):\n",
      " #   Column    Non-Null Count  Dtype         \n",
      "---  ------    --------------  -----         \n",
      " 0   Date      1261 non-null   datetime64[ns]\n",
      " 1   Price     1261 non-null   float64       \n",
      " 2   Open      1261 non-null   float64       \n",
      " 3   High      1261 non-null   float64       \n",
      " 4   Low       1261 non-null   float64       \n",
      " 5   Vol.      1261 non-null   object        \n",
      " 6   Change %  1261 non-null   object        \n",
      "dtypes: datetime64[ns](1), float64(4), object(2)\n",
      "memory usage: 69.1+ KB\n"
     ]
    },
    {
     "data": {
      "text/plain": [
       "None"
      ]
     },
     "metadata": {},
     "output_type": "display_data"
    }
   ],
   "source": [
    "#Conversion to numeric\n",
    "def vol_change(row):\n",
    "    row = str(row)\n",
    "    if row[-1] == 'M':\n",
    "        row = row.replace('M', '')\n",
    "        row = float(row) * 1000000\n",
    "    elif row[-1] == 'K':\n",
    "        row = row.replace('K', '')\n",
    "        row = float(row) * 1000\n",
    "    return row\n",
    "\n",
    "def percent_change(row):\n",
    "    row = str(row)\n",
    "    if row[-1] == '%':\n",
    "        row = row.replace('%', '')\n",
    "    return row\n",
    "\n",
    "data.iloc[:,5] = data.iloc[:,5].apply(vol_change)\n",
    "data.iloc[:,6] = data.iloc[:,6].apply(percent_change)\n",
    "display(data.head())\n",
    "display(data.info())"
   ]
  },
  {
   "cell_type": "code",
   "execution_count": 8,
   "metadata": {},
   "outputs": [
    {
     "name": "stdout",
     "output_type": "stream",
     "text": [
      "          Date  Price   Open   High    Low Vol. Change %\n",
      "132 2016-02-27  96.95  96.95  96.95  96.95    -     0.04\n"
     ]
    }
   ],
   "source": [
    "#Checking of blanks\n",
    "print(data[data['Vol.'] == '-'])"
   ]
  },
  {
   "cell_type": "code",
   "execution_count": 9,
   "metadata": {},
   "outputs": [
    {
     "name": "stdout",
     "output_type": "stream",
     "text": [
      "<class 'pandas.core.frame.DataFrame'>\n",
      "Int64Index: 1260 entries, 0 to 1260\n",
      "Data columns (total 7 columns):\n",
      " #   Column    Non-Null Count  Dtype         \n",
      "---  ------    --------------  -----         \n",
      " 0   Date      1260 non-null   datetime64[ns]\n",
      " 1   Price     1260 non-null   float64       \n",
      " 2   Open      1260 non-null   float64       \n",
      " 3   High      1260 non-null   float64       \n",
      " 4   Low       1260 non-null   float64       \n",
      " 5   Vol.      1260 non-null   float64       \n",
      " 6   Change %  1260 non-null   float64       \n",
      "dtypes: datetime64[ns](1), float64(6)\n",
      "memory usage: 78.8 KB\n",
      "None\n"
     ]
    }
   ],
   "source": [
    "#Finalising all data to float64\n",
    "data = data.drop(data.index[132])\n",
    "data['Vol.'] = data['Vol.'].astype('float')\n",
    "data['Change %'] = data['Change %'].astype('float')\n",
    "print(data.info())"
   ]
  },
  {
   "cell_type": "code",
   "execution_count": 10,
   "metadata": {},
   "outputs": [],
   "source": [
    "#Creating training data\n",
    "data_training = data[data['Date'] < 'Aug 25, 2019']"
   ]
  },
  {
   "cell_type": "code",
   "execution_count": 11,
   "metadata": {},
   "outputs": [
    {
     "data": {
      "text/html": [
       "<div>\n",
       "<style scoped>\n",
       "    .dataframe tbody tr th:only-of-type {\n",
       "        vertical-align: middle;\n",
       "    }\n",
       "\n",
       "    .dataframe tbody tr th {\n",
       "        vertical-align: top;\n",
       "    }\n",
       "\n",
       "    .dataframe thead th {\n",
       "        text-align: right;\n",
       "    }\n",
       "</style>\n",
       "<table border=\"1\" class=\"dataframe\">\n",
       "  <thead>\n",
       "    <tr style=\"text-align: right;\">\n",
       "      <th></th>\n",
       "      <th>Date</th>\n",
       "      <th>Price</th>\n",
       "      <th>Open</th>\n",
       "      <th>High</th>\n",
       "      <th>Low</th>\n",
       "      <th>Vol.</th>\n",
       "      <th>Change %</th>\n",
       "    </tr>\n",
       "  </thead>\n",
       "  <tbody>\n",
       "    <tr>\n",
       "      <th>0</th>\n",
       "      <td>2015-08-19</td>\n",
       "      <td>115.01</td>\n",
       "      <td>116.1</td>\n",
       "      <td>116.52</td>\n",
       "      <td>114.68</td>\n",
       "      <td>48290000.0</td>\n",
       "      <td>-1.28</td>\n",
       "    </tr>\n",
       "  </tbody>\n",
       "</table>\n",
       "</div>"
      ],
      "text/plain": [
       "        Date   Price   Open    High     Low        Vol.  Change %\n",
       "0 2015-08-19  115.01  116.1  116.52  114.68  48290000.0     -1.28"
      ]
     },
     "metadata": {},
     "output_type": "display_data"
    },
    {
     "data": {
      "text/html": [
       "<div>\n",
       "<style scoped>\n",
       "    .dataframe tbody tr th:only-of-type {\n",
       "        vertical-align: middle;\n",
       "    }\n",
       "\n",
       "    .dataframe tbody tr th {\n",
       "        vertical-align: top;\n",
       "    }\n",
       "\n",
       "    .dataframe thead th {\n",
       "        text-align: right;\n",
       "    }\n",
       "</style>\n",
       "<table border=\"1\" class=\"dataframe\">\n",
       "  <thead>\n",
       "    <tr style=\"text-align: right;\">\n",
       "      <th></th>\n",
       "      <th>Date</th>\n",
       "      <th>Price</th>\n",
       "      <th>Open</th>\n",
       "      <th>High</th>\n",
       "      <th>Low</th>\n",
       "      <th>Vol.</th>\n",
       "      <th>Change %</th>\n",
       "    </tr>\n",
       "  </thead>\n",
       "  <tbody>\n",
       "    <tr>\n",
       "      <th>1011</th>\n",
       "      <td>2019-08-23</td>\n",
       "      <td>202.64</td>\n",
       "      <td>209.43</td>\n",
       "      <td>212.05</td>\n",
       "      <td>201.0</td>\n",
       "      <td>46880000.0</td>\n",
       "      <td>-4.62</td>\n",
       "    </tr>\n",
       "  </tbody>\n",
       "</table>\n",
       "</div>"
      ],
      "text/plain": [
       "           Date   Price    Open    High    Low        Vol.  Change %\n",
       "1011 2019-08-23  202.64  209.43  212.05  201.0  46880000.0     -4.62"
      ]
     },
     "metadata": {},
     "output_type": "display_data"
    }
   ],
   "source": [
    "display(data_training.head(1))\n",
    "display(data_training.tail(1))"
   ]
  },
  {
   "cell_type": "code",
   "execution_count": 12,
   "metadata": {},
   "outputs": [],
   "source": [
    "#Creating testing data\n",
    "data_testing = data[data['Date'] >= 'Aug 25, 2019']"
   ]
  },
  {
   "cell_type": "code",
   "execution_count": 13,
   "metadata": {},
   "outputs": [
    {
     "data": {
      "text/html": [
       "<div>\n",
       "<style scoped>\n",
       "    .dataframe tbody tr th:only-of-type {\n",
       "        vertical-align: middle;\n",
       "    }\n",
       "\n",
       "    .dataframe tbody tr th {\n",
       "        vertical-align: top;\n",
       "    }\n",
       "\n",
       "    .dataframe thead th {\n",
       "        text-align: right;\n",
       "    }\n",
       "</style>\n",
       "<table border=\"1\" class=\"dataframe\">\n",
       "  <thead>\n",
       "    <tr style=\"text-align: right;\">\n",
       "      <th></th>\n",
       "      <th>Date</th>\n",
       "      <th>Price</th>\n",
       "      <th>Open</th>\n",
       "      <th>High</th>\n",
       "      <th>Low</th>\n",
       "      <th>Vol.</th>\n",
       "      <th>Change %</th>\n",
       "    </tr>\n",
       "  </thead>\n",
       "  <tbody>\n",
       "    <tr>\n",
       "      <th>1012</th>\n",
       "      <td>2019-08-26</td>\n",
       "      <td>206.49</td>\n",
       "      <td>205.86</td>\n",
       "      <td>207.19</td>\n",
       "      <td>205.06</td>\n",
       "      <td>26070000.0</td>\n",
       "      <td>1.9</td>\n",
       "    </tr>\n",
       "  </tbody>\n",
       "</table>\n",
       "</div>"
      ],
      "text/plain": [
       "           Date   Price    Open    High     Low        Vol.  Change %\n",
       "1012 2019-08-26  206.49  205.86  207.19  205.06  26070000.0       1.9"
      ]
     },
     "metadata": {},
     "output_type": "display_data"
    },
    {
     "data": {
      "text/html": [
       "<div>\n",
       "<style scoped>\n",
       "    .dataframe tbody tr th:only-of-type {\n",
       "        vertical-align: middle;\n",
       "    }\n",
       "\n",
       "    .dataframe tbody tr th {\n",
       "        vertical-align: top;\n",
       "    }\n",
       "\n",
       "    .dataframe thead th {\n",
       "        text-align: right;\n",
       "    }\n",
       "</style>\n",
       "<table border=\"1\" class=\"dataframe\">\n",
       "  <thead>\n",
       "    <tr style=\"text-align: right;\">\n",
       "      <th></th>\n",
       "      <th>Date</th>\n",
       "      <th>Price</th>\n",
       "      <th>Open</th>\n",
       "      <th>High</th>\n",
       "      <th>Low</th>\n",
       "      <th>Vol.</th>\n",
       "      <th>Change %</th>\n",
       "    </tr>\n",
       "  </thead>\n",
       "  <tbody>\n",
       "    <tr>\n",
       "      <th>1260</th>\n",
       "      <td>2020-08-19</td>\n",
       "      <td>467.57</td>\n",
       "      <td>463.95</td>\n",
       "      <td>468.63</td>\n",
       "      <td>462.61</td>\n",
       "      <td>14890000.0</td>\n",
       "      <td>1.15</td>\n",
       "    </tr>\n",
       "  </tbody>\n",
       "</table>\n",
       "</div>"
      ],
      "text/plain": [
       "           Date   Price    Open    High     Low        Vol.  Change %\n",
       "1260 2020-08-19  467.57  463.95  468.63  462.61  14890000.0      1.15"
      ]
     },
     "metadata": {},
     "output_type": "display_data"
    }
   ],
   "source": [
    "display(data_testing.head(1))\n",
    "display(data_testing.tail(1))"
   ]
  },
  {
   "cell_type": "code",
   "execution_count": 14,
   "metadata": {},
   "outputs": [
    {
     "data": {
      "text/html": [
       "<div>\n",
       "<style scoped>\n",
       "    .dataframe tbody tr th:only-of-type {\n",
       "        vertical-align: middle;\n",
       "    }\n",
       "\n",
       "    .dataframe tbody tr th {\n",
       "        vertical-align: top;\n",
       "    }\n",
       "\n",
       "    .dataframe thead th {\n",
       "        text-align: right;\n",
       "    }\n",
       "</style>\n",
       "<table border=\"1\" class=\"dataframe\">\n",
       "  <thead>\n",
       "    <tr style=\"text-align: right;\">\n",
       "      <th></th>\n",
       "      <th>Price</th>\n",
       "      <th>Open</th>\n",
       "      <th>High</th>\n",
       "      <th>Low</th>\n",
       "      <th>Vol.</th>\n",
       "      <th>Change %</th>\n",
       "    </tr>\n",
       "  </thead>\n",
       "  <tbody>\n",
       "    <tr>\n",
       "      <th>0</th>\n",
       "      <td>115.01</td>\n",
       "      <td>116.10</td>\n",
       "      <td>116.52</td>\n",
       "      <td>114.68</td>\n",
       "      <td>48290000.0</td>\n",
       "      <td>-1.28</td>\n",
       "    </tr>\n",
       "    <tr>\n",
       "      <th>1</th>\n",
       "      <td>112.65</td>\n",
       "      <td>114.08</td>\n",
       "      <td>114.35</td>\n",
       "      <td>111.63</td>\n",
       "      <td>68500000.0</td>\n",
       "      <td>-2.05</td>\n",
       "    </tr>\n",
       "    <tr>\n",
       "      <th>2</th>\n",
       "      <td>105.76</td>\n",
       "      <td>110.43</td>\n",
       "      <td>111.90</td>\n",
       "      <td>105.64</td>\n",
       "      <td>128280000.0</td>\n",
       "      <td>-6.12</td>\n",
       "    </tr>\n",
       "    <tr>\n",
       "      <th>3</th>\n",
       "      <td>103.12</td>\n",
       "      <td>94.87</td>\n",
       "      <td>108.80</td>\n",
       "      <td>92.00</td>\n",
       "      <td>162210000.0</td>\n",
       "      <td>-2.50</td>\n",
       "    </tr>\n",
       "    <tr>\n",
       "      <th>4</th>\n",
       "      <td>103.74</td>\n",
       "      <td>111.11</td>\n",
       "      <td>111.11</td>\n",
       "      <td>103.50</td>\n",
       "      <td>103600000.0</td>\n",
       "      <td>0.60</td>\n",
       "    </tr>\n",
       "  </tbody>\n",
       "</table>\n",
       "</div>"
      ],
      "text/plain": [
       "    Price    Open    High     Low         Vol.  Change %\n",
       "0  115.01  116.10  116.52  114.68   48290000.0     -1.28\n",
       "1  112.65  114.08  114.35  111.63   68500000.0     -2.05\n",
       "2  105.76  110.43  111.90  105.64  128280000.0     -6.12\n",
       "3  103.12   94.87  108.80   92.00  162210000.0     -2.50\n",
       "4  103.74  111.11  111.11  103.50  103600000.0      0.60"
      ]
     },
     "metadata": {},
     "output_type": "display_data"
    }
   ],
   "source": [
    "#Removal of unnessary date column from training data\n",
    "training_data = data_training.drop('Date', axis=1)\n",
    "display(training_data.head())"
   ]
  },
  {
   "cell_type": "code",
   "execution_count": 15,
   "metadata": {},
   "outputs": [
    {
     "name": "stdout",
     "output_type": "stream",
     "text": [
      "[[0.17406336 0.18539565 0.17524683 0.17967358 0.24481273 0.51058824]\n",
      " [0.15741198 0.17104702 0.15994358 0.157936   0.37878687 0.46529412]\n",
      " [0.10879842 0.14512005 0.14266573 0.11524482 0.77507458 0.22588235]\n",
      " ...\n",
      " [0.86290835 0.87363262 0.86022567 0.87042976 0.06761684 0.64941176]\n",
      " [0.86163833 0.87505327 0.86572638 0.86437175 0.0723235  0.58117647]\n",
      " [0.79235165 0.84834494 0.84894217 0.79488276 0.23546569 0.31411765]]\n"
     ]
    }
   ],
   "source": [
    "#Scaling the data (0-1)\n",
    "scaler = MinMaxScaler()\n",
    "training_data_scaled = scaler.fit_transform(training_data)\n",
    "print(training_data_scaled)"
   ]
  },
  {
   "cell_type": "code",
   "execution_count": 16,
   "metadata": {},
   "outputs": [],
   "source": [
    "#Initialising empty lists\n",
    "X_train = []\n",
    "y_train = []"
   ]
  },
  {
   "cell_type": "code",
   "execution_count": 17,
   "metadata": {},
   "outputs": [],
   "source": [
    "#Decisions made from previous 60 days of stock data\n",
    "\n",
    "for i in range(60, training_data_scaled.shape[0]):\n",
    "    X_train.append(training_data_scaled[i-60:i])\n",
    "    y_train.append(training_data_scaled[i,0])"
   ]
  },
  {
   "cell_type": "code",
   "execution_count": 18,
   "metadata": {},
   "outputs": [],
   "source": [
    "#Conversion to numpy array\n",
    "X_train, y_train = np.array(X_train), np.array(y_train)"
   ]
  },
  {
   "cell_type": "code",
   "execution_count": 19,
   "metadata": {},
   "outputs": [
    {
     "name": "stdout",
     "output_type": "stream",
     "text": [
      "(951, 60, 6)\n"
     ]
    }
   ],
   "source": [
    "#Shape check\n",
    "print(X_train.shape)\n",
    "#951 rows, 60 columns, 6 dimensions"
   ]
  },
  {
   "cell_type": "code",
   "execution_count": 20,
   "metadata": {},
   "outputs": [
    {
     "name": "stdout",
     "output_type": "stream",
     "text": [
      "(951,)\n"
     ]
    }
   ],
   "source": [
    "#Shape check\n",
    "print(y_train.shape)\n",
    "#951 rows"
   ]
  },
  {
   "cell_type": "code",
   "execution_count": 21,
   "metadata": {},
   "outputs": [],
   "source": [
    "#Building of LSTM model\n",
    "#Input shape = 60,6 (X_train,shape[1] (60 columns), dimensions)\n",
    "#Dropout = 0.2 = 20% of neural nodes will be randomly dropped to provide a better generalisation\n",
    "regressor = Sequential()\n",
    "\n",
    "regressor.add(LSTM(units=50, activation='relu', return_sequences = True, input_shape=(X_train.shape[1], 6)))\n",
    "regressor.add(Dropout(0.2))\n",
    "\n",
    "regressor.add(LSTM(units=60, activation='relu', return_sequences = True))\n",
    "regressor.add(Dropout(0.3))\n",
    "\n",
    "regressor.add(LSTM(units=70, activation='relu', return_sequences = True))\n",
    "regressor.add(Dropout(0.4))\n",
    "\n",
    "regressor.add(LSTM(units=70, activation='relu'))\n",
    "regressor.add(Dropout(0.5))\n",
    "\n",
    "regressor.add(Dense(units=1))"
   ]
  },
  {
   "cell_type": "code",
   "execution_count": 22,
   "metadata": {},
   "outputs": [
    {
     "name": "stdout",
     "output_type": "stream",
     "text": [
      "Model: \"sequential\"\n",
      "_________________________________________________________________\n",
      "Layer (type)                 Output Shape              Param #   \n",
      "=================================================================\n",
      "lstm (LSTM)                  (None, 60, 50)            11400     \n",
      "_________________________________________________________________\n",
      "dropout (Dropout)            (None, 60, 50)            0         \n",
      "_________________________________________________________________\n",
      "lstm_1 (LSTM)                (None, 60, 60)            26640     \n",
      "_________________________________________________________________\n",
      "dropout_1 (Dropout)          (None, 60, 60)            0         \n",
      "_________________________________________________________________\n",
      "lstm_2 (LSTM)                (None, 60, 70)            36680     \n",
      "_________________________________________________________________\n",
      "dropout_2 (Dropout)          (None, 60, 70)            0         \n",
      "_________________________________________________________________\n",
      "lstm_3 (LSTM)                (None, 70)                39480     \n",
      "_________________________________________________________________\n",
      "dropout_3 (Dropout)          (None, 70)                0         \n",
      "_________________________________________________________________\n",
      "dense (Dense)                (None, 1)                 71        \n",
      "=================================================================\n",
      "Total params: 114,271\n",
      "Trainable params: 114,271\n",
      "Non-trainable params: 0\n",
      "_________________________________________________________________\n"
     ]
    },
    {
     "data": {
      "text/plain": [
       "None"
      ]
     },
     "metadata": {},
     "output_type": "display_data"
    }
   ],
   "source": [
    "#Model summary\n",
    "display(regressor.summary())"
   ]
  },
  {
   "cell_type": "code",
   "execution_count": 23,
   "metadata": {},
   "outputs": [],
   "source": [
    "#Compiling of model\n",
    "regressor.compile(optimizer='adam', loss='mean_squared_error')"
   ]
  },
  {
   "cell_type": "code",
   "execution_count": 24,
   "metadata": {},
   "outputs": [
    {
     "name": "stdout",
     "output_type": "stream",
     "text": [
      "Train on 951 samples\n",
      "Epoch 1/10\n",
      "951/951 [==============================] - 28s 30ms/sample - loss: 0.0892\n",
      "Epoch 2/10\n",
      "951/951 [==============================] - 17s 18ms/sample - loss: 0.0204\n",
      "Epoch 3/10\n",
      "951/951 [==============================] - 17s 18ms/sample - loss: 0.0157\n",
      "Epoch 4/10\n",
      "951/951 [==============================] - 17s 18ms/sample - loss: 0.0148\n",
      "Epoch 5/10\n",
      "951/951 [==============================] - 17s 18ms/sample - loss: 0.0127\n",
      "Epoch 6/10\n",
      "951/951 [==============================] - 17s 18ms/sample - loss: 0.0126\n",
      "Epoch 7/10\n",
      "951/951 [==============================] - 18s 19ms/sample - loss: 0.0117\n",
      "Epoch 8/10\n",
      "951/951 [==============================] - 18s 19ms/sample - loss: 0.0111\n",
      "Epoch 9/10\n",
      "951/951 [==============================] - 17s 18ms/sample - loss: 0.0103\n",
      "Epoch 10/10\n",
      "951/951 [==============================] - 17s 18ms/sample - loss: 0.0111\n"
     ]
    },
    {
     "data": {
      "text/plain": [
       "<tensorflow.python.keras.callbacks.History at 0x1a454bc350>"
      ]
     },
     "execution_count": 24,
     "metadata": {},
     "output_type": "execute_result"
    }
   ],
   "source": [
    "#Fitting the model\n",
    "regressor.fit(X_train, y_train, epochs=10, batch_size=32)"
   ]
  },
  {
   "cell_type": "code",
   "execution_count": 25,
   "metadata": {},
   "outputs": [
    {
     "name": "stdout",
     "output_type": "stream",
     "text": [
      "           Date   Price    Open    High     Low        Vol.  Change %\n",
      "1012 2019-08-26  206.49  205.86  207.19  205.06  26070000.0      1.90\n",
      "1013 2019-08-27  204.16  207.86  208.55  203.53  25900000.0     -1.13\n",
      "1014 2019-08-28  205.53  204.10  205.72  203.32  15960000.0      0.67\n",
      "1015 2019-08-29  209.01  208.50  209.32  206.65  21010000.0      1.69\n",
      "1016 2019-08-30  208.74  210.16  210.45  207.20  21160000.0     -0.13\n"
     ]
    }
   ],
   "source": [
    "#Adding the last 60 days of the training set to the testing set as we are basing decisions off last 60 days\n",
    "past_sixty_days = training_data.tail(60)\n",
    "\n",
    "df = past_sixty_days.append(data_testing, ignore_index=True)\n",
    "df = df.drop(['Date'], axis=1)\n",
    "print(data_testing.head())"
   ]
  },
  {
   "cell_type": "code",
   "execution_count": 26,
   "metadata": {},
   "outputs": [
    {
     "data": {
      "text/html": [
       "<div>\n",
       "<style scoped>\n",
       "    .dataframe tbody tr th:only-of-type {\n",
       "        vertical-align: middle;\n",
       "    }\n",
       "\n",
       "    .dataframe tbody tr th {\n",
       "        vertical-align: top;\n",
       "    }\n",
       "\n",
       "    .dataframe thead th {\n",
       "        text-align: right;\n",
       "    }\n",
       "</style>\n",
       "<table border=\"1\" class=\"dataframe\">\n",
       "  <thead>\n",
       "    <tr style=\"text-align: right;\">\n",
       "      <th></th>\n",
       "      <th>Price</th>\n",
       "      <th>Open</th>\n",
       "      <th>High</th>\n",
       "      <th>Low</th>\n",
       "      <th>Vol.</th>\n",
       "      <th>Change %</th>\n",
       "    </tr>\n",
       "  </thead>\n",
       "  <tbody>\n",
       "    <tr>\n",
       "      <th>0</th>\n",
       "      <td>175.07</td>\n",
       "      <td>176.23</td>\n",
       "      <td>177.99</td>\n",
       "      <td>174.99</td>\n",
       "      <td>27040000.0</td>\n",
       "      <td>-1.81</td>\n",
       "    </tr>\n",
       "    <tr>\n",
       "      <th>1</th>\n",
       "      <td>173.30</td>\n",
       "      <td>175.60</td>\n",
       "      <td>177.92</td>\n",
       "      <td>170.27</td>\n",
       "      <td>40400000.0</td>\n",
       "      <td>-1.01</td>\n",
       "    </tr>\n",
       "    <tr>\n",
       "      <th>2</th>\n",
       "      <td>179.64</td>\n",
       "      <td>175.44</td>\n",
       "      <td>179.83</td>\n",
       "      <td>174.52</td>\n",
       "      <td>30970000.0</td>\n",
       "      <td>3.66</td>\n",
       "    </tr>\n",
       "    <tr>\n",
       "      <th>3</th>\n",
       "      <td>182.54</td>\n",
       "      <td>184.28</td>\n",
       "      <td>184.99</td>\n",
       "      <td>181.14</td>\n",
       "      <td>29770000.0</td>\n",
       "      <td>1.61</td>\n",
       "    </tr>\n",
       "    <tr>\n",
       "      <th>4</th>\n",
       "      <td>185.22</td>\n",
       "      <td>183.08</td>\n",
       "      <td>185.47</td>\n",
       "      <td>182.15</td>\n",
       "      <td>22530000.0</td>\n",
       "      <td>1.47</td>\n",
       "    </tr>\n",
       "  </tbody>\n",
       "</table>\n",
       "</div>"
      ],
      "text/plain": [
       "    Price    Open    High     Low        Vol.  Change %\n",
       "0  175.07  176.23  177.99  174.99  27040000.0     -1.81\n",
       "1  173.30  175.60  177.92  170.27  40400000.0     -1.01\n",
       "2  179.64  175.44  179.83  174.52  30970000.0      3.66\n",
       "3  182.54  184.28  184.99  181.14  29770000.0      1.61\n",
       "4  185.22  183.08  185.47  182.15  22530000.0      1.47"
      ]
     },
     "execution_count": 26,
     "metadata": {},
     "output_type": "execute_result"
    }
   ],
   "source": [
    "#Inspection of new df\n",
    "df.head()"
   ]
  },
  {
   "cell_type": "code",
   "execution_count": 35,
   "metadata": {},
   "outputs": [
    {
     "data": {
      "text/plain": [
       "array([[ 0.59782685,  0.61251598,  0.60874471,  0.60950752,  0.10394432,\n",
       "         0.47941176],\n",
       "       [ 0.58533832,  0.60804091,  0.60825106,  0.57586772,  0.19250912,\n",
       "         0.52647059],\n",
       "       [ 0.63007126,  0.60690439,  0.62172073,  0.60615779,  0.12999669,\n",
       "         0.80117647],\n",
       "       ...,\n",
       "       [ 2.59712129,  2.65676943,  2.62588152,  2.61157437, -0.07245184,\n",
       "         0.57058824],\n",
       "       [ 2.62407394,  2.61216082,  2.62566996,  2.61299979,  0.09976798,\n",
       "         0.63470588],\n",
       "       [ 2.6616101 ,  2.6562722 ,  2.6583921 ,  2.65939705,  0.02340073,\n",
       "         0.65352941]])"
      ]
     },
     "metadata": {},
     "output_type": "display_data"
    }
   ],
   "source": [
    "#Scaling the testing inputs\n",
    "test_inputs = scaler.transform(df)\n",
    "display(test_inputs)"
   ]
  },
  {
   "cell_type": "code",
   "execution_count": 28,
   "metadata": {},
   "outputs": [],
   "source": [
    "#Initialising empty test lists and appending day ranges\n",
    "X_test = []\n",
    "y_test = []\n",
    "\n",
    "for i in range(60, test_inputs.shape[0]):\n",
    "    X_test.append(test_inputs[i-60:i])\n",
    "    y_test.append(test_inputs[i,0])"
   ]
  },
  {
   "cell_type": "code",
   "execution_count": 29,
   "metadata": {},
   "outputs": [
    {
     "name": "stdout",
     "output_type": "stream",
     "text": [
      "(249, 60, 6)\n",
      "(249,)\n"
     ]
    }
   ],
   "source": [
    "#Conversion to arrays\n",
    "X_test, y_test = np.array(X_test), np.array(y_test)\n",
    "\n",
    "print(X_test.shape)\n",
    "print(y_test.shape)"
   ]
  },
  {
   "cell_type": "code",
   "execution_count": 30,
   "metadata": {},
   "outputs": [],
   "source": [
    "#Predictions\n",
    "y_pred = regressor.predict(X_test)"
   ]
  },
  {
   "cell_type": "code",
   "execution_count": 31,
   "metadata": {},
   "outputs": [
    {
     "data": {
      "text/plain": [
       "array([7.05566923e-03, 7.10328172e-03, 7.05218618e-03, 7.12707576e-03,\n",
       "       6.62910176e-09, 5.88235294e-02])"
      ]
     },
     "execution_count": 31,
     "metadata": {},
     "output_type": "execute_result"
    }
   ],
   "source": [
    "#Unscale the values\n",
    "scaler.scale_"
   ]
  },
  {
   "cell_type": "code",
   "execution_count": 32,
   "metadata": {},
   "outputs": [
    {
     "data": {
      "text/plain": [
       "141.73000000454954"
      ]
     },
     "execution_count": 32,
     "metadata": {},
     "output_type": "execute_result"
    }
   ],
   "source": [
    "#First column was divided by this value to bring the values between 0 and 1\n",
    "scale = 1 / 7.05566923e-03\n",
    "scale"
   ]
  },
  {
   "cell_type": "code",
   "execution_count": 33,
   "metadata": {},
   "outputs": [],
   "source": [
    "#Bringing the scaled values back to actual values\n",
    "y_pred = y_pred * scale\n",
    "y_test = y_test * scale"
   ]
  },
  {
   "cell_type": "code",
   "execution_count": 34,
   "metadata": {},
   "outputs": [
    {
     "data": {
      "image/png": "[encoded data removed]",
      "text/plain": [
       "<Figure size 1080x720 with 1 Axes>"
      ]
     },
     "metadata": {
      "needs_background": "light"
     },
     "output_type": "display_data"
    }
   ],
   "source": [
    "#Visualised Predicted Value of AAPL stock\n",
    "plt.figure(figsize = (15,10))\n",
    "plt.plot(y_test, color='blue', label='Real Value of AAPL stock')\n",
    "plt.plot(y_pred, color='red', label = 'Predicted Value of AAPl stock')\n",
    "plt.xlabel('Time (days)')\n",
    "plt.ylabel('Price($)')\n",
    "plt.legend()\n",
    "plt.title('AAPL Stock Price Predictions')\n",
    "plt.show()"
   ]
  },
  {
   "cell_type": "code",
   "execution_count": null,
   "metadata": {},
   "outputs": [],
   "source": []
  },
  {
   "cell_type": "code",
   "execution_count": null,
   "metadata": {},
   "outputs": [],
   "source": []
  }
 ],
 "metadata": {
  "kernelspec": {
   "display_name": "Python 3",
   "language": "python",
   "name": "python3"
  },
  "language_info": {
   "codemirror_mode": {
    "name": "ipython",
    "version": 3
   },
   "file_extension": ".py",
   "mimetype": "text/x-python",
   "name": "python",
   "nbconvert_exporter": "python",
   "pygments_lexer": "ipython3",
   "version": "3.7.6"
  }
 },
 "nbformat": 4,
 "nbformat_minor": 4
}
